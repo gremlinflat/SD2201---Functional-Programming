{
 "cells": [
  {
   "attachments": {},
   "cell_type": "markdown",
   "metadata": {},
   "source": [
    "# Tugas 1 : Pemahaman Dasa Pemrograman Berbasis Fungsi"
   ]
  },
  {
   "attachments": {},
   "cell_type": "markdown",
   "metadata": {},
   "source": [
    "Fahri Novaldi - 119140205 - PBF RA"
   ]
  },
  {
   "attachments": {},
   "cell_type": "markdown",
   "metadata": {},
   "source": [
    "### 1. Jelaskan menggunakan tabel mengenai kelebihan dan kekurangan paradigma procedural dibandingkan dengan object oriented (minimal 3) !"
   ]
  },
  {
   "attachments": {},
   "cell_type": "markdown",
   "metadata": {},
   "source": [
    "| Prosedural                                                      | Object-Oriented                                                                                                      |\n",
    "|-----------------------------------------------------------------|----------------------------------------------------------------------------------------------------------------------|\n",
    "| Prosedural tidak memiliki access modifiers seperti pada OOP     | OOP memiliki access modifiers seperti public, protected, dan private.                                                |\n",
    "| Prosedural kurang aman dibandingkan dengan OOP                  | Karena OOP dapat melakukan abstraction dalam penyembunyian data. Oleh karena itu OOP lebih aman daripada Prosedural. |\n",
    "| Program dipecah-pecah ke dalam sub program yang lebih sederhana | Program dipecah-pecah ke dalam sebuah objek-objek kecil (Fungsi dan data menjadi satu kesatuan yang disebut obyek)   |"
   ]
  },
  {
   "attachments": {},
   "cell_type": "markdown",
   "metadata": {},
   "source": [
    "### 2. Jelaskan menggunakan tabel mengenai kelebihan dan kekurangan paradigma object oriented dibandingkan dengan functional (minimal 3) !"
   ]
  },
  {
   "attachments": {},
   "cell_type": "markdown",
   "metadata": {},
   "source": [
    "| Functional                                                                                                        | Object-Oriented                                                                                    |\n",
    "|-------------------------------------------------------------------------------------------------------------------|----------------------------------------------------------------------------------------------------|\n",
    "| Runtime Functional menggunakan I/O yang lebih ringkas (lambda function), sehingga penggunaan memory lebih efisien | Runtime OOP lebih memakan banyak memory dan cpu                                                    |\n",
    "| Proses pengembangan lebih cepat untuk kebutuhan riset                                                             | proses pengembangan membutuhkan waktu lebih lama, karena abstraksi harus dilakukan terlebih dahulu |\n",
    "| Functional cocok untuk pengembangan riset (matematis)                                                             | OOP cocok untuk pengembangan software secara umum                                                  |"
   ]
  },
  {
   "attachments": {},
   "cell_type": "markdown",
   "metadata": {},
   "source": [
    "### 3. Jelaskan menggunakan tabel mengenai kelebihan dan kekurangan paradigma procedural dibandingkan dengan functional (minimal 3) !"
   ]
  },
  {
   "attachments": {},
   "cell_type": "markdown",
   "metadata": {},
   "source": [
    "| Functional                                                                                                        | Procedural                                                                                                                              |\n",
    "|-------------------------------------------------------------------------------------------------------------------|-----------------------------------------------------------------------------------------------------------------------------------------|\n",
    "| Runtime Functional menggunakan I/O yang lebih ringkas (lambda function), sehingga penggunaan memory lebih efisien | Penggunaan memori prosedural sangat berantakan, karena tidak ada yang mengabstraksi/mengisolate variable                                |\n",
    "| Proses pengembangan lebih cepat untuk kebutuhan riset                                                             | Prosedural tidak cocok untuk pengembangan program matematis, karena cenderung deklaratif (harus mendeklarasikan alur yang jelas/strict) |\n",
    "| Functional cocok untuk pengembangan riset (matematis)                                                             | Prosedural cocok untuk pemula yang sedang belajar pemrograman                                                                           |"
   ]
  },
  {
   "attachments": {},
   "cell_type": "markdown",
   "metadata": {},
   "source": [
    "### 4. Apa yang dimaksud dengan pure functional programming language?"
   ]
  },
  {
   "attachments": {},
   "cell_type": "markdown",
   "metadata": {},
   "source": [
    "Pemrograman fungsional murni adalah paradigma pemrograman—gaya membangun struktur dan elemen program komputer—yang memperlakukan semua komputasi sebagai evaluasi fungsi matematika dan tidak bisa menggunakan paradigma lainnya. Pemrograman fungsional murni adalah pemrograman fungsional yang tidak menggunakan konsep seperti variabel, perulangan, atau struktur kendali yang dapat mengubah aliran program."
   ]
  },
  {
   "attachments": {},
   "cell_type": "markdown",
   "metadata": {},
   "source": [
    "### 5. Dari bahasa pemrograman FP di slide sebelumnya ( slide 14 ) , manakah yang termasuk pure functional programming language?"
   ]
  },
  {
   "attachments": {},
   "cell_type": "markdown",
   "metadata": {},
   "source": [
    "Haskell"
   ]
  },
  {
   "attachments": {},
   "cell_type": "markdown",
   "metadata": {},
   "source": [
    "### 6. Membuat program Simple Password encryption"
   ]
  },
  {
   "cell_type": "code",
   "execution_count": 1,
   "metadata": {},
   "outputs": [],
   "source": [
    "def passwordSalt(password_char):\n",
    "    #salting\n",
    "    val_1 = password_char//26 + 80\n",
    "    val_2 = password_char%26 + 80 \n",
    "    if val_1 > val_2:\n",
    "      val_3 = '+'\n",
    "    else:\n",
    "      val_3 = '-'\n",
    "\n",
    "    encrypted_char = chr(val_1) + chr(val_2) + val_3\n",
    "    return encrypted_char"
   ]
  },
  {
   "cell_type": "code",
   "execution_count": 2,
   "metadata": {},
   "outputs": [],
   "source": [
    "def encrypt(password):\n",
    "    #mengubah string menjadi list\n",
    "    password_list = list(password)\n",
    "\n",
    "    #change char -> ascii (list)\n",
    "    password_ascii = list(map(ord, password))\n",
    "    # print(password_ascii)\n",
    "\n",
    "    #salting\n",
    "    password_salted = list(map(passwordSalt, password_ascii))\n",
    "\n",
    "    #mengubah list menjadi string\n",
    "    password = \"\".join(password_salted)\n",
    "    return password"
   ]
  },
  {
   "cell_type": "code",
   "execution_count": 3,
   "metadata": {},
   "outputs": [],
   "source": [
    "def decrypt(password):\n",
    "  splited_pass = [password[i:i+3] for i in range(0, len(password), 3)]\n",
    "\n",
    "  asciipass = list()\n",
    "  for word in splited_pass:\n",
    "    val_1 = ord(word[0]) - 80 \n",
    "    val_2 = ord(word[1]) - 80 \n",
    "    val = 26 * val_1 + val_2 \n",
    "    asciipass.append(val) \n",
    "\n",
    "  password = list(map(chr, asciipass))\n",
    "  password = \"\".join(password)\n",
    "    \n",
    "  return password #akan mengembalikan password yang telah di-decrypt"
   ]
  },
  {
   "cell_type": "code",
   "execution_count": 4,
   "metadata": {},
   "outputs": [
    {
     "name": "stdout",
     "output_type": "stream",
     "text": [
      "The password is:  Sc-TV-Sc-TS+Sc-TV-Sc-TS+Se-Sg-TZ-Sf-Sc-T[-Qh-Qf-Qh-Qf-\n"
     ]
    }
   ],
   "source": [
    "input_string = str(input(\"Enter a string: \"))\n",
    "\n",
    "# Input password bertipe string dengan batasan panjang password 100 karakter\n",
    "if len(input_string) < 100 :\n",
    "    print(\"The password is: \", encrypt(input_string))\n",
    "else:\n",
    "    print(\"The string is too long\")"
   ]
  },
  {
   "cell_type": "code",
   "execution_count": 5,
   "metadata": {},
   "outputs": [
    {
     "name": "stdout",
     "output_type": "stream",
     "text": [
      "anaksainsdata2020kece\n"
     ]
    }
   ],
   "source": [
    "a = \"Sc-TV-Sc-TS+T[-Sc-TQ+TV-T[-Sf-Sc-T\\-Sc-Qh-Qf-Qh-Qf-TS+Sg-Se-Sg-\"\n",
    "print(decrypt(a))"
   ]
  }
 ],
 "metadata": {
  "kernelspec": {
   "display_name": "base",
   "language": "python",
   "name": "python3"
  },
  "language_info": {
   "codemirror_mode": {
    "name": "ipython",
    "version": 3
   },
   "file_extension": ".py",
   "mimetype": "text/x-python",
   "name": "python",
   "nbconvert_exporter": "python",
   "pygments_lexer": "ipython3",
   "version": "3.10.9"
  },
  "orig_nbformat": 4,
  "vscode": {
   "interpreter": {
    "hash": "80d4732e0508b14b65c23e930d9d62a76c4025f25f6893bebc579c4f47efbbf6"
   }
  }
 },
 "nbformat": 4,
 "nbformat_minor": 2
}
